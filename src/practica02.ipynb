{
 "cells": [
  {
   "cell_type": "markdown",
   "metadata": {},
   "source": [
    "Autores:\n",
    "\n",
    "    - Pablo Simón Saiz\n",
    "    - Alex Tomé Aguiar\n",
    "\n",
    "# Flow Shop Permutacional"
   ]
  },
  {
   "cell_type": "code",
   "execution_count": 1,
   "metadata": {},
   "outputs": [],
   "source": [
    "from utils import get_fichero, read_file, generar_permutador, funcion_f, tiempo_final_f\n",
    "from searchs import local_search, rand_search, recocido_simulado\n",
    "import pandas as pd\n",
    "from genetico import genetic\n",
    "import numpy as np"
   ]
  },
  {
   "cell_type": "markdown",
   "metadata": {},
   "source": [
    "# Introducción de fichero\n",
    "Aqui seleccionaremos el fichero que queramos leer, las opciones disponibles son las siguientes: (Dar valor de None para introducir por teclado).\n",
    "\n",
    "    1. ejem_clase1\n",
    "    2. ejem_clase2\n",
    "    3. Doc1\n",
    "    4. Doc2\n",
    "    5. Doc3\n",
    "    6. Doc4\n",
    "    7. Doc5\n",
    "    8. Doc6\n",
    "    9. Doc7\n",
    "    10. Doc8\n",
    "    11. Doc9\n",
    "    12. Doc10\n",
    "    13. Doc11"
   ]
  },
  {
   "cell_type": "code",
   "execution_count": 2,
   "metadata": {},
   "outputs": [
    {
     "name": "stdout",
     "output_type": "stream",
     "text": [
      "Data\\Doc3.txt\n"
     ]
    }
   ],
   "source": [
    "NFILE = 5 # poner a None para pedir por teclado\n",
    "\n",
    "file = get_fichero(NFILE)\n",
    "print(file)"
   ]
  },
  {
   "cell_type": "markdown",
   "metadata": {},
   "source": [
    "# Lectura de fichero"
   ]
  },
  {
   "cell_type": "code",
   "execution_count": 3,
   "metadata": {},
   "outputs": [
    {
     "data": {
      "text/html": [
       "<div>\n",
       "<style scoped>\n",
       "    .dataframe tbody tr th:only-of-type {\n",
       "        vertical-align: middle;\n",
       "    }\n",
       "\n",
       "    .dataframe tbody tr th {\n",
       "        vertical-align: top;\n",
       "    }\n",
       "\n",
       "    .dataframe thead th {\n",
       "        text-align: right;\n",
       "    }\n",
       "</style>\n",
       "<table border=\"1\" class=\"dataframe\">\n",
       "  <thead>\n",
       "    <tr style=\"text-align: right;\">\n",
       "      <th></th>\n",
       "      <th>0</th>\n",
       "      <th>1</th>\n",
       "      <th>2</th>\n",
       "      <th>3</th>\n",
       "      <th>4</th>\n",
       "    </tr>\n",
       "  </thead>\n",
       "  <tbody>\n",
       "    <tr>\n",
       "      <th>0</th>\n",
       "      <td>456</td>\n",
       "      <td>537</td>\n",
       "      <td>123</td>\n",
       "      <td>214</td>\n",
       "      <td>234</td>\n",
       "    </tr>\n",
       "    <tr>\n",
       "      <th>1</th>\n",
       "      <td>789</td>\n",
       "      <td>854</td>\n",
       "      <td>225</td>\n",
       "      <td>528</td>\n",
       "      <td>123</td>\n",
       "    </tr>\n",
       "    <tr>\n",
       "      <th>2</th>\n",
       "      <td>876</td>\n",
       "      <td>632</td>\n",
       "      <td>588</td>\n",
       "      <td>896</td>\n",
       "      <td>456</td>\n",
       "    </tr>\n",
       "    <tr>\n",
       "      <th>3</th>\n",
       "      <td>543</td>\n",
       "      <td>145</td>\n",
       "      <td>669</td>\n",
       "      <td>325</td>\n",
       "      <td>789</td>\n",
       "    </tr>\n",
       "    <tr>\n",
       "      <th>4</th>\n",
       "      <td>210</td>\n",
       "      <td>785</td>\n",
       "      <td>966</td>\n",
       "      <td>147</td>\n",
       "      <td>876</td>\n",
       "    </tr>\n",
       "    <tr>\n",
       "      <th>5</th>\n",
       "      <td>123</td>\n",
       "      <td>214</td>\n",
       "      <td>332</td>\n",
       "      <td>856</td>\n",
       "      <td>543</td>\n",
       "    </tr>\n",
       "    <tr>\n",
       "      <th>6</th>\n",
       "      <td>456</td>\n",
       "      <td>752</td>\n",
       "      <td>144</td>\n",
       "      <td>321</td>\n",
       "      <td>210</td>\n",
       "    </tr>\n",
       "    <tr>\n",
       "      <th>7</th>\n",
       "      <td>789</td>\n",
       "      <td>143</td>\n",
       "      <td>755</td>\n",
       "      <td>427</td>\n",
       "      <td>123</td>\n",
       "    </tr>\n",
       "    <tr>\n",
       "      <th>8</th>\n",
       "      <td>876</td>\n",
       "      <td>698</td>\n",
       "      <td>322</td>\n",
       "      <td>546</td>\n",
       "      <td>456</td>\n",
       "    </tr>\n",
       "    <tr>\n",
       "      <th>9</th>\n",
       "      <td>543</td>\n",
       "      <td>532</td>\n",
       "      <td>100</td>\n",
       "      <td>321</td>\n",
       "      <td>789</td>\n",
       "    </tr>\n",
       "    <tr>\n",
       "      <th>10</th>\n",
       "      <td>210</td>\n",
       "      <td>145</td>\n",
       "      <td>114</td>\n",
       "      <td>401</td>\n",
       "      <td>876</td>\n",
       "    </tr>\n",
       "    <tr>\n",
       "      <th>11</th>\n",
       "      <td>124</td>\n",
       "      <td>247</td>\n",
       "      <td>753</td>\n",
       "      <td>214</td>\n",
       "      <td>543</td>\n",
       "    </tr>\n",
       "  </tbody>\n",
       "</table>\n",
       "</div>"
      ],
      "text/plain": [
       "      0    1    2    3    4\n",
       "0   456  537  123  214  234\n",
       "1   789  854  225  528  123\n",
       "2   876  632  588  896  456\n",
       "3   543  145  669  325  789\n",
       "4   210  785  966  147  876\n",
       "5   123  214  332  856  543\n",
       "6   456  752  144  321  210\n",
       "7   789  143  755  427  123\n",
       "8   876  698  322  546  456\n",
       "9   543  532  100  321  789\n",
       "10  210  145  114  401  876\n",
       "11  124  247  753  214  543"
      ]
     },
     "metadata": {},
     "output_type": "display_data"
    }
   ],
   "source": [
    "d = read_file(file)\n",
    "display(pd.DataFrame(d))"
   ]
  },
  {
   "cell_type": "markdown",
   "metadata": {},
   "source": [
    "# Generación del Permutador\n",
    "Aqui se generará nuestro punto de partida."
   ]
  },
  {
   "cell_type": "code",
   "execution_count": 4,
   "metadata": {},
   "outputs": [
    {
     "name": "stdout",
     "output_type": "stream",
     "text": [
      "[3, 4, 0, 1, 10, 11, 6, 7, 8, 2, 9, 5]\n"
     ]
    }
   ],
   "source": [
    "v = generar_permutador(d)\n",
    "print(v)"
   ]
  },
  {
   "cell_type": "markdown",
   "metadata": {},
   "source": [
    "# Funcion F"
   ]
  },
  {
   "cell_type": "code",
   "execution_count": 5,
   "metadata": {},
   "outputs": [
    {
     "data": {
      "text/html": [
       "<div>\n",
       "<style scoped>\n",
       "    .dataframe tbody tr th:only-of-type {\n",
       "        vertical-align: middle;\n",
       "    }\n",
       "\n",
       "    .dataframe tbody tr th {\n",
       "        vertical-align: top;\n",
       "    }\n",
       "\n",
       "    .dataframe thead th {\n",
       "        text-align: right;\n",
       "    }\n",
       "</style>\n",
       "<table border=\"1\" class=\"dataframe\">\n",
       "  <thead>\n",
       "    <tr style=\"text-align: right;\">\n",
       "      <th></th>\n",
       "      <th>0</th>\n",
       "      <th>1</th>\n",
       "      <th>2</th>\n",
       "      <th>3</th>\n",
       "      <th>4</th>\n",
       "    </tr>\n",
       "  </thead>\n",
       "  <tbody>\n",
       "    <tr>\n",
       "      <th>0</th>\n",
       "      <td>1209</td>\n",
       "      <td>2075</td>\n",
       "      <td>2627</td>\n",
       "      <td>2865</td>\n",
       "      <td>3761</td>\n",
       "    </tr>\n",
       "    <tr>\n",
       "      <th>1</th>\n",
       "      <td>1998</td>\n",
       "      <td>2929</td>\n",
       "      <td>3154</td>\n",
       "      <td>3682</td>\n",
       "      <td>3884</td>\n",
       "    </tr>\n",
       "    <tr>\n",
       "      <th>2</th>\n",
       "      <td>5329</td>\n",
       "      <td>5961</td>\n",
       "      <td>6549</td>\n",
       "      <td>7445</td>\n",
       "      <td>7901</td>\n",
       "    </tr>\n",
       "    <tr>\n",
       "      <th>3</th>\n",
       "      <td>543</td>\n",
       "      <td>688</td>\n",
       "      <td>1357</td>\n",
       "      <td>1682</td>\n",
       "      <td>2471</td>\n",
       "    </tr>\n",
       "    <tr>\n",
       "      <th>4</th>\n",
       "      <td>753</td>\n",
       "      <td>1538</td>\n",
       "      <td>2504</td>\n",
       "      <td>2651</td>\n",
       "      <td>3527</td>\n",
       "    </tr>\n",
       "    <tr>\n",
       "      <th>5</th>\n",
       "      <td>5995</td>\n",
       "      <td>6707</td>\n",
       "      <td>7039</td>\n",
       "      <td>8622</td>\n",
       "      <td>9233</td>\n",
       "    </tr>\n",
       "    <tr>\n",
       "      <th>6</th>\n",
       "      <td>2788</td>\n",
       "      <td>4073</td>\n",
       "      <td>4218</td>\n",
       "      <td>4618</td>\n",
       "      <td>5712</td>\n",
       "    </tr>\n",
       "    <tr>\n",
       "      <th>7</th>\n",
       "      <td>3577</td>\n",
       "      <td>4216</td>\n",
       "      <td>4973</td>\n",
       "      <td>5400</td>\n",
       "      <td>5835</td>\n",
       "    </tr>\n",
       "    <tr>\n",
       "      <th>8</th>\n",
       "      <td>4453</td>\n",
       "      <td>5151</td>\n",
       "      <td>5473</td>\n",
       "      <td>6019</td>\n",
       "      <td>6475</td>\n",
       "    </tr>\n",
       "    <tr>\n",
       "      <th>9</th>\n",
       "      <td>5872</td>\n",
       "      <td>6493</td>\n",
       "      <td>6649</td>\n",
       "      <td>7766</td>\n",
       "      <td>8690</td>\n",
       "    </tr>\n",
       "    <tr>\n",
       "      <th>10</th>\n",
       "      <td>2208</td>\n",
       "      <td>3074</td>\n",
       "      <td>3268</td>\n",
       "      <td>4083</td>\n",
       "      <td>4959</td>\n",
       "    </tr>\n",
       "    <tr>\n",
       "      <th>11</th>\n",
       "      <td>2332</td>\n",
       "      <td>3321</td>\n",
       "      <td>4074</td>\n",
       "      <td>4297</td>\n",
       "      <td>5502</td>\n",
       "    </tr>\n",
       "  </tbody>\n",
       "</table>\n",
       "</div>"
      ],
      "text/plain": [
       "       0     1     2     3     4\n",
       "0   1209  2075  2627  2865  3761\n",
       "1   1998  2929  3154  3682  3884\n",
       "2   5329  5961  6549  7445  7901\n",
       "3    543   688  1357  1682  2471\n",
       "4    753  1538  2504  2651  3527\n",
       "5   5995  6707  7039  8622  9233\n",
       "6   2788  4073  4218  4618  5712\n",
       "7   3577  4216  4973  5400  5835\n",
       "8   4453  5151  5473  6019  6475\n",
       "9   5872  6493  6649  7766  8690\n",
       "10  2208  3074  3268  4083  4959\n",
       "11  2332  3321  4074  4297  5502"
      ]
     },
     "metadata": {},
     "output_type": "display_data"
    }
   ],
   "source": [
    "f = funcion_f(v, d)\n",
    "display(pd.DataFrame(f))"
   ]
  },
  {
   "cell_type": "markdown",
   "metadata": {},
   "source": [
    "# Busquedas\n",
    "## Búsqueda Aleatoria\n",
    "Este tipo de búsqueda depende totalmente de la suerte, por lo que no explota ningún tipo de camino encontrado."
   ]
  },
  {
   "cell_type": "code",
   "execution_count": 6,
   "metadata": {},
   "outputs": [
    {
     "name": "stdout",
     "output_type": "stream",
     "text": [
      "Permutador: [10, 3, 5, 4, 11, 9, 2, 1, 8, 0, 7, 6]\n",
      "Puntuación: 7448\n"
     ]
    },
    {
     "data": {
      "image/png": "[encoded data removed]",
      "text/plain": [
       "<Figure size 432x288 with 1 Axes>"
      ]
     },
     "metadata": {
      "needs_background": "light"
     },
     "output_type": "display_data"
    }
   ],
   "source": [
    "rs = rand_search(d, 8000)\n",
    "rs_score = tiempo_final_f(funcion_f(rs, d))\n",
    "\n",
    "print(f\"Permutador: {rs}\")\n",
    "print(f\"Puntuación: {rs_score}\")"
   ]
  },
  {
   "cell_type": "markdown",
   "metadata": {},
   "source": [
    "## Búsqueda Local\n",
    "Este tipo de búsqueda, por otro lado, explota el camino encontrado, pero al caer en un máximo local no aseguramos que sea la mejor solución.\n",
    "### Primero el mejor"
   ]
  },
  {
   "cell_type": "code",
   "execution_count": 7,
   "metadata": {},
   "outputs": [
    {
     "name": "stdout",
     "output_type": "stream",
     "text": [
      "Permutador: [10, 5, 4, 2, 11, 1, 3, 8, 9, 0, 7, 6]\n",
      "Puntuación: 7527\n"
     ]
    },
    {
     "data": {
      "image/png": "[encoded data removed]",
      "text/plain": [
       "<Figure size 432x288 with 1 Axes>"
      ]
     },
     "metadata": {
      "needs_background": "light"
     },
     "output_type": "display_data"
    }
   ],
   "source": [
    "ls1 = local_search(d, True)\n",
    "ls1_score = tiempo_final_f(funcion_f(ls1, d))\n",
    "\n",
    "print(f\"Permutador: {ls1}\")\n",
    "print(f\"Puntuación: {ls1_score}\")"
   ]
  },
  {
   "cell_type": "markdown",
   "metadata": {},
   "source": [
    "## El mejor"
   ]
  },
  {
   "cell_type": "code",
   "execution_count": 8,
   "metadata": {},
   "outputs": [
    {
     "name": "stdout",
     "output_type": "stream",
     "text": [
      "Permutador: [10, 5, 4, 6, 9, 11, 8, 2, 3, 1, 7, 0]\n",
      "Puntuación: 7448\n"
     ]
    },
    {
     "data": {
      "image/png": "[encoded data removed]",
      "text/plain": [
       "<Figure size 432x288 with 1 Axes>"
      ]
     },
     "metadata": {
      "needs_background": "light"
     },
     "output_type": "display_data"
    }
   ],
   "source": [
    "ls2 = local_search(d, False)\n",
    "ls2_score = tiempo_final_f(funcion_f(rs, d))\n",
    "\n",
    "print(f\"Permutador: {ls2}\")\n",
    "print(f\"Puntuación: {ls2_score}\")"
   ]
  },
  {
   "cell_type": "markdown",
   "metadata": {},
   "source": [
    "# Recocido"
   ]
  },
  {
   "cell_type": "code",
   "execution_count": 9,
   "metadata": {},
   "outputs": [
    {
     "name": "stdout",
     "output_type": "stream",
     "text": [
      "Permutador: [10, 11, 5, 4, 9, 8, 2, 1, 3, 6, 7, 0]\n",
      "Puntuación: 7312\n"
     ]
    },
    {
     "data": {
      "image/png": "[encoded data removed]",
      "text/plain": [
       "<Figure size 432x288 with 1 Axes>"
      ]
     },
     "metadata": {
      "needs_background": "light"
     },
     "output_type": "display_data"
    }
   ],
   "source": [
    "rec = recocido_simulado(d, 100)\n",
    "rec_score = tiempo_final_f(funcion_f(rec, d))\n",
    "\n",
    "print(f\"Permutador: {rec}\")\n",
    "print(f\"Puntuación: {rec_score}\")"
   ]
  },
  {
   "cell_type": "markdown",
   "metadata": {},
   "source": [
    "## Genético\n",
    "Si jugamos bien con nuestros parámetros, explotaremos el camino encontrado mientras a su vez exploramos posibles alternativas"
   ]
  },
  {
   "cell_type": "code",
   "execution_count": 11,
   "metadata": {},
   "outputs": [
    {
     "name": "stdout",
     "output_type": "stream",
     "text": [
      "Permutador: [5, 10, 11, 11, 5, 6, 7, 0, 6, 7, 0, 0]\n",
      "Puntuación: 5941\n"
     ]
    },
    {
     "data": {
      "image/png": "[encoded data removed]",
      "text/plain": [
       "<Figure size 432x288 with 1 Axes>"
      ]
     },
     "metadata": {
      "needs_background": "light"
     },
     "output_type": "display_data"
    }
   ],
   "source": [
    "NIND = 100 # Número de individuos por población\n",
    "NGEN = 100 # Número de generaciones por individuo\n",
    "MUPB = 0.3 # Probabilidad de mutación\n",
    "CXPB = 0.7 # Probabilidad de cruce\n",
    "\n",
    "gen = genetic(d, NIND=NIND, NGEN=NGEN, MUPB=MUPB, CXPB=CXPB, OX=True, plot = True)\n",
    "gen_score = tiempo_final_f(funcion_f(gen, d))\n",
    "\n",
    "print(f\"Permutador: {gen}\")\n",
    "print(f\"Puntuación: {gen_score}\")"
   ]
  },
  {
   "cell_type": "code",
   "execution_count": null,
   "metadata": {},
   "outputs": [],
   "source": [
    "def ox(pareja):\n",
    "    puntos = [random.randint(0, len(pareja[0]) - 1), random.randint(0, len(pareja[0]) - 1)]\n",
    "    puntos.sort()\n",
    "    retorno = [list(pareja[0]), list(pareja[1])]\n",
    "    \n",
    "    for k in range(2):\n",
    "        bloque = list(pareja[k][puntos[0]:puntos[1]])\n",
    "        aux = 0\n",
    "        for i in range(len(pareja[0])):\n",
    "            if pareja[k][i] not in bloque:\n",
    "                for j in range(aux, len(pareja[0])):\n",
    "                    aux += 1\n",
    "                    if pareja[not k][j] not in bloque:\n",
    "                        retorno[k][j] = pareja[not k][i]\n",
    "                        break\n",
    "                    \n",
    "    return retorno\n",
    "\n",
    "ox([[1,2,3,4,5,6,7,8,9],[5,7,4,9,1,3,6,2,8]])"
   ]
  }
 ],
 "metadata": {
  "interpreter": {
   "hash": "45beaf1bbaf1f4539db6cc65708e9bc09be995c5454858dbd2322c7e6d854a88"
  },
  "kernelspec": {
   "display_name": "Python 3.8.8 64-bit ('base': conda)",
   "name": "python3"
  },
  "language_info": {
   "codemirror_mode": {
    "name": "ipython",
    "version": 3
   },
   "file_extension": ".py",
   "mimetype": "text/x-python",
   "name": "python",
   "nbconvert_exporter": "python",
   "pygments_lexer": "ipython3",
   "version": "3.8.5"
  }
 },
 "nbformat": 4,
 "nbformat_minor": 4
}
