{
 "cells": [
  {
   "cell_type": "markdown",
   "metadata": {},
   "source": [
    "Autores:\n",
    "\n",
    "    - Pablo Simón Saiz\n",
    "    - Alex Tomé Aguiar\n",
    "\n",
    "# Flow Shop Permutacional"
   ]
  },
  {
   "cell_type": "code",
   "execution_count": 12,
   "metadata": {},
   "outputs": [],
   "source": [
    "from utils import get_fichero, read_file, generar_permutador, funcion_f, tiempo_final_f\n",
    "from searchs import local_search, rand_search, recocido_simulado\n",
    "import pandas as pd\n",
    "from genetico import genetic\n",
    "import numpy as np"
   ]
  },
  {
   "cell_type": "markdown",
   "metadata": {},
   "source": [
    "# Introducción de fichero\n",
    "Aqui seleccionaremos el fichero que queramos leer, las opciones disponibles son las siguientes: (Dar valor de None para introducir por teclado).\n",
    "\n",
    "    1. ejem_clase1\n",
    "    2. ejem_clase2\n",
    "    3. Doc1\n",
    "    4. Doc2\n",
    "    5. Doc3\n",
    "    6. Doc4\n",
    "    7. Doc5\n",
    "    8. Doc6\n",
    "    9. Doc7\n",
    "    10. Doc8\n",
    "    11. Doc9\n",
    "    12. Doc10\n",
    "    13. Doc11"
   ]
  },
  {
   "cell_type": "code",
   "execution_count": 14,
   "metadata": {},
   "outputs": [
    {
     "name": "stdout",
     "output_type": "stream",
     "text": [
      "Data\\Doc3.txt\n"
     ]
    }
   ],
   "source": [
    "NFILE = 5 # poner a None para pedir por teclado\n",
    "\n",
    "file = get_fichero(NFILE)\n",
    "print(file)"
   ]
  },
  {
   "cell_type": "markdown",
   "metadata": {},
   "source": [
    "# Lectura de fichero"
   ]
  },
  {
   "cell_type": "code",
   "execution_count": 15,
   "metadata": {},
   "outputs": [
    {
     "data": {
      "text/html": [
       "<div>\n",
       "<style scoped>\n",
       "    .dataframe tbody tr th:only-of-type {\n",
       "        vertical-align: middle;\n",
       "    }\n",
       "\n",
       "    .dataframe tbody tr th {\n",
       "        vertical-align: top;\n",
       "    }\n",
       "\n",
       "    .dataframe thead th {\n",
       "        text-align: right;\n",
       "    }\n",
       "</style>\n",
       "<table border=\"1\" class=\"dataframe\">\n",
       "  <thead>\n",
       "    <tr style=\"text-align: right;\">\n",
       "      <th></th>\n",
       "      <th>0</th>\n",
       "      <th>1</th>\n",
       "      <th>2</th>\n",
       "      <th>3</th>\n",
       "      <th>4</th>\n",
       "    </tr>\n",
       "  </thead>\n",
       "  <tbody>\n",
       "    <tr>\n",
       "      <th>0</th>\n",
       "      <td>456</td>\n",
       "      <td>537</td>\n",
       "      <td>123</td>\n",
       "      <td>214</td>\n",
       "      <td>234</td>\n",
       "    </tr>\n",
       "    <tr>\n",
       "      <th>1</th>\n",
       "      <td>789</td>\n",
       "      <td>854</td>\n",
       "      <td>225</td>\n",
       "      <td>528</td>\n",
       "      <td>123</td>\n",
       "    </tr>\n",
       "    <tr>\n",
       "      <th>2</th>\n",
       "      <td>876</td>\n",
       "      <td>632</td>\n",
       "      <td>588</td>\n",
       "      <td>896</td>\n",
       "      <td>456</td>\n",
       "    </tr>\n",
       "    <tr>\n",
       "      <th>3</th>\n",
       "      <td>543</td>\n",
       "      <td>145</td>\n",
       "      <td>669</td>\n",
       "      <td>325</td>\n",
       "      <td>789</td>\n",
       "    </tr>\n",
       "    <tr>\n",
       "      <th>4</th>\n",
       "      <td>210</td>\n",
       "      <td>785</td>\n",
       "      <td>966</td>\n",
       "      <td>147</td>\n",
       "      <td>876</td>\n",
       "    </tr>\n",
       "    <tr>\n",
       "      <th>5</th>\n",
       "      <td>123</td>\n",
       "      <td>214</td>\n",
       "      <td>332</td>\n",
       "      <td>856</td>\n",
       "      <td>543</td>\n",
       "    </tr>\n",
       "    <tr>\n",
       "      <th>6</th>\n",
       "      <td>456</td>\n",
       "      <td>752</td>\n",
       "      <td>144</td>\n",
       "      <td>321</td>\n",
       "      <td>210</td>\n",
       "    </tr>\n",
       "    <tr>\n",
       "      <th>7</th>\n",
       "      <td>789</td>\n",
       "      <td>143</td>\n",
       "      <td>755</td>\n",
       "      <td>427</td>\n",
       "      <td>123</td>\n",
       "    </tr>\n",
       "    <tr>\n",
       "      <th>8</th>\n",
       "      <td>876</td>\n",
       "      <td>698</td>\n",
       "      <td>322</td>\n",
       "      <td>546</td>\n",
       "      <td>456</td>\n",
       "    </tr>\n",
       "    <tr>\n",
       "      <th>9</th>\n",
       "      <td>543</td>\n",
       "      <td>532</td>\n",
       "      <td>100</td>\n",
       "      <td>321</td>\n",
       "      <td>789</td>\n",
       "    </tr>\n",
       "    <tr>\n",
       "      <th>10</th>\n",
       "      <td>210</td>\n",
       "      <td>145</td>\n",
       "      <td>114</td>\n",
       "      <td>401</td>\n",
       "      <td>876</td>\n",
       "    </tr>\n",
       "    <tr>\n",
       "      <th>11</th>\n",
       "      <td>124</td>\n",
       "      <td>247</td>\n",
       "      <td>753</td>\n",
       "      <td>214</td>\n",
       "      <td>543</td>\n",
       "    </tr>\n",
       "  </tbody>\n",
       "</table>\n",
       "</div>"
      ],
      "text/plain": [
       "      0    1    2    3    4\n",
       "0   456  537  123  214  234\n",
       "1   789  854  225  528  123\n",
       "2   876  632  588  896  456\n",
       "3   543  145  669  325  789\n",
       "4   210  785  966  147  876\n",
       "5   123  214  332  856  543\n",
       "6   456  752  144  321  210\n",
       "7   789  143  755  427  123\n",
       "8   876  698  322  546  456\n",
       "9   543  532  100  321  789\n",
       "10  210  145  114  401  876\n",
       "11  124  247  753  214  543"
      ]
     },
     "metadata": {},
     "output_type": "display_data"
    }
   ],
   "source": [
    "d = read_file(file)\n",
    "display(pd.DataFrame(d))"
   ]
  },
  {
   "cell_type": "markdown",
   "metadata": {},
   "source": [
    "# Generación del Permutador\n",
    "Aqui se generará nuestro punto de partida."
   ]
  },
  {
   "cell_type": "code",
   "execution_count": 16,
   "metadata": {},
   "outputs": [
    {
     "name": "stdout",
     "output_type": "stream",
     "text": [
      "[9, 11, 4, 2, 5, 0, 1, 3, 10, 8, 7, 6]\n"
     ]
    }
   ],
   "source": [
    "v = generar_permutador(d)\n",
    "print(v)"
   ]
  },
  {
   "cell_type": "markdown",
   "metadata": {},
   "source": [
    "# Funcion F"
   ]
  },
  {
   "cell_type": "code",
   "execution_count": 17,
   "metadata": {},
   "outputs": [
    {
     "data": {
      "text/html": [
       "<div>\n",
       "<style scoped>\n",
       "    .dataframe tbody tr th:only-of-type {\n",
       "        vertical-align: middle;\n",
       "    }\n",
       "\n",
       "    .dataframe tbody tr th {\n",
       "        vertical-align: top;\n",
       "    }\n",
       "\n",
       "    .dataframe thead th {\n",
       "        text-align: right;\n",
       "    }\n",
       "</style>\n",
       "<table border=\"1\" class=\"dataframe\">\n",
       "  <thead>\n",
       "    <tr style=\"text-align: right;\">\n",
       "      <th></th>\n",
       "      <th>0</th>\n",
       "      <th>1</th>\n",
       "      <th>2</th>\n",
       "      <th>3</th>\n",
       "      <th>4</th>\n",
       "    </tr>\n",
       "  </thead>\n",
       "  <tbody>\n",
       "    <tr>\n",
       "      <th>0</th>\n",
       "      <td>2332</td>\n",
       "      <td>3490</td>\n",
       "      <td>4116</td>\n",
       "      <td>5627</td>\n",
       "      <td>6190</td>\n",
       "    </tr>\n",
       "    <tr>\n",
       "      <th>1</th>\n",
       "      <td>3121</td>\n",
       "      <td>4344</td>\n",
       "      <td>4569</td>\n",
       "      <td>6155</td>\n",
       "      <td>6313</td>\n",
       "    </tr>\n",
       "    <tr>\n",
       "      <th>2</th>\n",
       "      <td>1753</td>\n",
       "      <td>2739</td>\n",
       "      <td>3661</td>\n",
       "      <td>4557</td>\n",
       "      <td>5013</td>\n",
       "    </tr>\n",
       "    <tr>\n",
       "      <th>3</th>\n",
       "      <td>3664</td>\n",
       "      <td>4489</td>\n",
       "      <td>5238</td>\n",
       "      <td>6480</td>\n",
       "      <td>7269</td>\n",
       "    </tr>\n",
       "    <tr>\n",
       "      <th>4</th>\n",
       "      <td>877</td>\n",
       "      <td>2107</td>\n",
       "      <td>3073</td>\n",
       "      <td>3220</td>\n",
       "      <td>4096</td>\n",
       "    </tr>\n",
       "    <tr>\n",
       "      <th>5</th>\n",
       "      <td>1876</td>\n",
       "      <td>2953</td>\n",
       "      <td>3993</td>\n",
       "      <td>5413</td>\n",
       "      <td>5956</td>\n",
       "    </tr>\n",
       "    <tr>\n",
       "      <th>6</th>\n",
       "      <td>5995</td>\n",
       "      <td>6747</td>\n",
       "      <td>6891</td>\n",
       "      <td>8175</td>\n",
       "      <td>8934</td>\n",
       "    </tr>\n",
       "    <tr>\n",
       "      <th>7</th>\n",
       "      <td>5539</td>\n",
       "      <td>5682</td>\n",
       "      <td>6525</td>\n",
       "      <td>7854</td>\n",
       "      <td>8724</td>\n",
       "    </tr>\n",
       "    <tr>\n",
       "      <th>8</th>\n",
       "      <td>4750</td>\n",
       "      <td>5448</td>\n",
       "      <td>5770</td>\n",
       "      <td>7427</td>\n",
       "      <td>8601</td>\n",
       "    </tr>\n",
       "    <tr>\n",
       "      <th>9</th>\n",
       "      <td>543</td>\n",
       "      <td>1075</td>\n",
       "      <td>1175</td>\n",
       "      <td>1496</td>\n",
       "      <td>2285</td>\n",
       "    </tr>\n",
       "    <tr>\n",
       "      <th>10</th>\n",
       "      <td>3874</td>\n",
       "      <td>4634</td>\n",
       "      <td>5352</td>\n",
       "      <td>6881</td>\n",
       "      <td>8145</td>\n",
       "    </tr>\n",
       "    <tr>\n",
       "      <th>11</th>\n",
       "      <td>667</td>\n",
       "      <td>1322</td>\n",
       "      <td>2075</td>\n",
       "      <td>2289</td>\n",
       "      <td>2832</td>\n",
       "    </tr>\n",
       "  </tbody>\n",
       "</table>\n",
       "</div>"
      ],
      "text/plain": [
       "       0     1     2     3     4\n",
       "0   2332  3490  4116  5627  6190\n",
       "1   3121  4344  4569  6155  6313\n",
       "2   1753  2739  3661  4557  5013\n",
       "3   3664  4489  5238  6480  7269\n",
       "4    877  2107  3073  3220  4096\n",
       "5   1876  2953  3993  5413  5956\n",
       "6   5995  6747  6891  8175  8934\n",
       "7   5539  5682  6525  7854  8724\n",
       "8   4750  5448  5770  7427  8601\n",
       "9    543  1075  1175  1496  2285\n",
       "10  3874  4634  5352  6881  8145\n",
       "11   667  1322  2075  2289  2832"
      ]
     },
     "metadata": {},
     "output_type": "display_data"
    }
   ],
   "source": [
    "f = funcion_f(v, d)\n",
    "display(pd.DataFrame(f))"
   ]
  },
  {
   "cell_type": "markdown",
   "metadata": {},
   "source": [
    "# Busquedas\n",
    "## Búsqueda Aleatoria\n",
    "Este tipo de búsqueda depende totalmente de la suerte, por lo que no explota ningún tipo de camino encontrado."
   ]
  },
  {
   "cell_type": "code",
   "execution_count": 18,
   "metadata": {},
   "outputs": [
    {
     "name": "stdout",
     "output_type": "stream",
     "text": [
      "Permutador: [5, 11, 4, 3, 10, 0, 9, 6, 8, 2, 1, 7]\n",
      "Puntuación: 7611\n"
     ]
    },
    {
     "data": {
      "image/png": "[encoded data removed]",
      "text/plain": [
       "<Figure size 432x288 with 1 Axes>"
      ]
     },
     "metadata": {
      "needs_background": "light"
     },
     "output_type": "display_data"
    }
   ],
   "source": [
    "rs = rand_search(d, 8000)\n",
    "rs_score = tiempo_final_f(funcion_f(rs, d))\n",
    "\n",
    "print(f\"Permutador: {rs}\")\n",
    "print(f\"Puntuación: {rs_score}\")"
   ]
  },
  {
   "cell_type": "markdown",
   "metadata": {},
   "source": [
    "## Búsqueda Local\n",
    "Este tipo de búsqueda, por otro lado, explota el camino encontrado, pero al caer en un máximo local no aseguramos que sea la mejor solución.\n",
    "### Primero el mejor"
   ]
  },
  {
   "cell_type": "code",
   "execution_count": 24,
   "metadata": {},
   "outputs": [
    {
     "name": "stdout",
     "output_type": "stream",
     "text": [
      "Permutador: [11, 10, 5, 4, 2, 3, 8, 1, 9, 7, 6, 0]\n",
      "Puntuación: 7399\n"
     ]
    },
    {
     "data": {
      "image/png": "[encoded data removed]",
      "text/plain": [
       "<Figure size 432x288 with 1 Axes>"
      ]
     },
     "metadata": {
      "needs_background": "light"
     },
     "output_type": "display_data"
    }
   ],
   "source": [
    "ls1 = local_search(d, True)\n",
    "ls1_score = tiempo_final_f(funcion_f(ls1, d))\n",
    "\n",
    "print(f\"Permutador: {ls1}\")\n",
    "print(f\"Puntuación: {ls1_score}\")"
   ]
  },
  {
   "cell_type": "markdown",
   "metadata": {},
   "source": [
    "## El mejor"
   ]
  },
  {
   "cell_type": "code",
   "execution_count": 27,
   "metadata": {},
   "outputs": [
    {
     "name": "stdout",
     "output_type": "stream",
     "text": [
      "Permutador: [11, 6, 10, 9, 3, 5, 4, 1, 2, 8, 0, 7]\n",
      "Puntuación: 7611\n"
     ]
    },
    {
     "data": {
      "image/png": "[encoded data removed]",
      "text/plain": [
       "<Figure size 432x288 with 1 Axes>"
      ]
     },
     "metadata": {
      "needs_background": "light"
     },
     "output_type": "display_data"
    }
   ],
   "source": [
    "ls2 = local_search(d, False)\n",
    "ls2_score = tiempo_final_f(funcion_f(rs, d))\n",
    "\n",
    "print(f\"Permutador: {ls2}\")\n",
    "print(f\"Puntuación: {ls2_score}\")"
   ]
  },
  {
   "cell_type": "markdown",
   "metadata": {},
   "source": [
    "# Recocido"
   ]
  },
  {
   "cell_type": "code",
   "execution_count": 29,
   "metadata": {},
   "outputs": [
    {
     "name": "stdout",
     "output_type": "stream",
     "text": [
      "Permutador: [10, 5, 11, 4, 9, 8, 2, 1, 3, 6, 7, 0]\n",
      "Puntuación: 7312\n"
     ]
    },
    {
     "data": {
      "image/png": "[encoded data removed]",
      "text/plain": [
       "<Figure size 432x288 with 1 Axes>"
      ]
     },
     "metadata": {
      "needs_background": "light"
     },
     "output_type": "display_data"
    }
   ],
   "source": [
    "rec = recocido_simulado(d, 100)\n",
    "rec_score = tiempo_final_f(funcion_f(rec, d))\n",
    "\n",
    "print(f\"Permutador: {rec}\")\n",
    "print(f\"Puntuación: {rec_score}\")"
   ]
  },
  {
   "cell_type": "markdown",
   "metadata": {},
   "source": [
    "## Genético\n",
    "Si jugamos bien con nuestros parámetros, explotaremos el camino encontrado mientras a su vez exploramos posibles alternativas"
   ]
  },
  {
   "cell_type": "code",
   "execution_count": 42,
   "metadata": {},
   "outputs": [
    {
     "name": "stdout",
     "output_type": "stream",
     "text": [
      "Permutador: [5, 3, 10, 4, 9, 2, 11, 1, 8, 6, 7, 0]\n",
      "Puntuación: 7543\n"
     ]
    },
    {
     "data": {
      "image/png": "[encoded data removed]",
      "text/plain": [
       "<Figure size 432x288 with 1 Axes>"
      ]
     },
     "metadata": {
      "needs_background": "light"
     },
     "output_type": "display_data"
    }
   ],
   "source": [
    "NIND = 100 # Número de individuos por población\n",
    "NGEN = 100 # Número de generaciones por individuo\n",
    "MUPB = 0.3 # Probabilidad de mutación\n",
    "CXPB = 0.7 # Probabilidad de cruce\n",
    "\n",
    "gen = genetic(d, NIND=NIND, NGEN=NGEN, MUPB=MUPB, CXPB=CXPB, OX=False, plot = True)\n",
    "gen_score = tiempo_final_f(funcion_f(gen, d))\n",
    "\n",
    "print(f\"Permutador: {gen}\")\n",
    "print(f\"Puntuación: {gen_score}\")"
   ]
  }
 ],
 "metadata": {
  "interpreter": {
   "hash": "45beaf1bbaf1f4539db6cc65708e9bc09be995c5454858dbd2322c7e6d854a88"
  },
  "kernelspec": {
   "display_name": "Python 3.8.8 64-bit ('base': conda)",
   "name": "python3"
  },
  "language_info": {
   "codemirror_mode": {
    "name": "ipython",
    "version": 3
   },
   "file_extension": ".py",
   "mimetype": "text/x-python",
   "name": "python",
   "nbconvert_exporter": "python",
   "pygments_lexer": "ipython3",
   "version": "3.8.5"
  }
 },
 "nbformat": 4,
 "nbformat_minor": 4
}
