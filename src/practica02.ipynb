{
 "cells": [
  {
   "cell_type": "markdown",
   "metadata": {},
   "source": [
    "# Flow Shop Permutacional"
   ]
  },
  {
   "cell_type": "raw",
   "metadata": {},
   "source": [
    "Autores:\n",
    "    - Pablo Simón Saiz\n",
    "    - Alex Tomé Aguiar"
   ]
  },
  {
   "cell_type": "code",
   "execution_count": 54,
   "metadata": {},
   "outputs": [],
   "source": [
    "import csv\n",
    "import random"
   ]
  },
  {
   "cell_type": "code",
   "execution_count": 55,
   "metadata": {},
   "outputs": [],
   "source": [
    "# ESTATICOS\n",
    "documentos = [\"ejem_clase2.txt\",\"ejem_clase2.txt\"]\n",
    "documentos += [\"Doc\" + str(i+1) + \".txt\" for i in range(11)]\n",
    "texto = \"Elija el problema a resolver: \\n\"\n",
    "aux = [\"\\t\" + str(i + 1) + \". \" + str(documentos[i]) + \"\\n\" for i in range(11)]\n",
    "\n",
    "for i in range(11):\n",
    "    texto += aux[i]\n",
    "\n",
    "NFILE = input(texto)\n",
    "\n",
    "file = \"Problemas\\\\\" + documentos[int(n)-1]"
   ]
  },
  {
   "cell_type": "code",
   "execution_count": null,
   "metadata": {},
   "outputs": [],
   "source": [
    "class Organizador:"
   ]
  },
  {
   "cell_type": "code",
   "execution_count": 69,
   "metadata": {},
   "outputs": [
    {
     "data": {
      "text/plain": [
       "[[5, 3],\n",
       " [0, 5, 1, 3, 2, 8],\n",
       " [0, 7, 1, 4, 2, 3],\n",
       " [0, 6, 1, 5, 2, 4],\n",
       " [0, 8, 1, 2, 2, 6],\n",
       " [0, 9, 1, 1, 2, 5]]"
      ]
     },
     "execution_count": 69,
     "metadata": {},
     "output_type": "execute_result"
    }
   ],
   "source": [
    "def read_file(file):\n",
    "    \"\"\"\n",
    "    Completar.\n",
    "    Función que lee un archivo y almacena en una variable el numero de maquinas\n",
    "    en otra las órdenes y en una matriz ambas dos.\n",
    "    \"\"\"\n",
    "    \"\"\"\n",
    "    archivo = 'Doc1.txt'\n",
    "    \n",
    "    f = open(archivo)\n",
    "    print(f.read())\n",
    "    f.close()\n",
    "    \"\"\"\n",
    "    \n",
    "    with open(file, newline = '') as f:\n",
    "        reader = csv.reader(f)\n",
    "        data = list(reader)\n",
    "\n",
    "    retorno = []\n",
    "    \n",
    "    for i in range(len(data)):\n",
    "        retorno.append(data[i][0].split())\n",
    "        \n",
    "        for j in range(len(retorno[i])):\n",
    "            retorno[i][j] = int(retorno[i][j])\n",
    "\n",
    "    return retorno\n",
    "\n",
    "\n",
    "\n",
    "    # La secuencia es el vector que ordena qué productos se hacen en qué orden,\n",
    "    # son los primeros números del archivo\n",
    "    # secuencia = \n",
    "    \n",
    "    # i: primera pos del vector\n",
    "    # j: suma de la anterior y la nueva\n",
    "    # matriz_ij"
   ]
  },
  {
   "cell_type": "code",
   "execution_count": 65,
   "metadata": {},
   "outputs": [],
   "source": [
    "def generar_permutador(matriz_datos = read_file()):\n",
    "    \n",
    "    ordenes = [i for i in range(matriz_datos[0][0])]\n",
    "    retorno = []\n",
    "    \n",
    "    while len(ordenes) != 0:\n",
    "        rand = random.randint(0, len(ordenes) - 1)\n",
    "        retorno.append(ordenes[rand])\n",
    "        ordenes.pop(rand)\n",
    "\n",
    "    return retorno"
   ]
  },
  {
   "cell_type": "code",
   "execution_count": 66,
   "metadata": {},
   "outputs": [
    {
     "data": {
      "text/plain": [
       "[1, 4, 2, 0, 3]"
      ]
     },
     "execution_count": 66,
     "metadata": {},
     "output_type": "execute_result"
    }
   ],
   "source": [
    "generar_permutador()"
   ]
  },
  {
   "cell_type": "code",
   "execution_count": 67,
   "metadata": {},
   "outputs": [
    {
     "data": {
      "text/plain": [
       "[[5, 7, 6, 8, 9], [], []]"
      ]
     },
     "execution_count": 67,
     "metadata": {},
     "output_type": "execute_result"
    }
   ],
   "source": [
    "def funcion_f(vector = generar_permutador(), datos = read_file()):\n",
    "    \n",
    "    \"\"\"\n",
    "    Función F que calcula la matriz F con los tiempos de salida\n",
    "        num_ordenes: el número de órdenes\n",
    "        num_maq: el número de máquinas disponibles\n",
    "        matriz_datos: tiempos de procesado.\n",
    "    \"\"\"\n",
    "    retorno = []\n",
    "\n",
    "    ntar = datos[0][0]\n",
    "    nmaq = datos[0][1]\n",
    "\n",
    "    for maq in range(nmaq):\n",
    "        retorno.append([])\n",
    "\n",
    "    for maq in datos[1:]:\n",
    "        retorno[0].append(j[1])\n",
    " \n",
    "    for maq in range(1, nmaq):\n",
    "        for tar in vector:\n",
    "            flag = True\n",
    "            for i in range(maq):\n",
    "                if \n",
    "\n",
    "    return retorno\n",
    "\n",
    "    '''\n",
    "    [[5, 3],\n",
    "    [0, 5, 1, 3, 2, 8],\n",
    "    [0, 7, 1, 4, 2, 3],\n",
    "    [0, 6, 1, 5, 2, 4],\n",
    "    [0, 8, 1, 2, 2, 6],\n",
    "    [0, 9, 1, 1, 2, 5]]\n",
    "    '''\n",
    "\n",
    "funcion_f()"
   ]
  },
  {
   "cell_type": "code",
   "execution_count": 61,
   "metadata": {},
   "outputs": [],
   "source": [
    "def busqueda_aleatoria():\n",
    "    \n",
    "    sol_inicial = generar_permutador()\n",
    "    sol_actual = sol_inicial\n",
    "    sol_mejor = sol_actual\n",
    "    print(\"Partimos de la siguiente solución: \")\n",
    "    print(sol_inicial)\n",
    "    # Pedimos por teclado el número de intentos\n",
    "    x = int(input(\"Introduce el número de iteraciones: \"))\n",
    "    optimo_mejor = funcion_f(sol_mejor)\n",
    "    \n",
    "    for i in range(x):\n",
    "        sol_actual = generar_permutador()\n",
    "        optimo = funcion_f(sol_actual)    \n",
    "        if(optimo > optimo_mejor):\n",
    "            sol_mejor = sol_actual\n",
    "            optimo_mejor = optimo\n",
    "        \n",
    "    print(\"La mejor solución es: \")\n",
    "    print(sol_mejor)\n",
    "    print(\"Con valor: \")\n",
    "    print(optimo_mejor)\n",
    "   \n",
    "    \n",
    "    "
   ]
  },
  {
   "cell_type": "code",
   "execution_count": 62,
   "metadata": {},
   "outputs": [
    {
     "name": "stdout",
     "output_type": "stream",
     "text": [
      "Partimos de la siguiente solución: \n",
      "[1, 2, 0]\n"
     ]
    },
    {
     "ename": "ValueError",
     "evalue": "invalid literal for int() with base 10: ''",
     "output_type": "error",
     "traceback": [
      "\u001b[1;31m---------------------------------------------------------------------------\u001b[0m",
      "\u001b[1;31mValueError\u001b[0m                                Traceback (most recent call last)",
      "\u001b[1;32m<ipython-input-62-f312c2c7adee>\u001b[0m in \u001b[0;36m<module>\u001b[1;34m\u001b[0m\n\u001b[1;32m----> 1\u001b[1;33m \u001b[0mbusqueda_aleatoria\u001b[0m\u001b[1;33m(\u001b[0m\u001b[1;33m)\u001b[0m\u001b[1;33m\u001b[0m\u001b[1;33m\u001b[0m\u001b[0m\n\u001b[0m",
      "\u001b[1;32m<ipython-input-61-ecfa3eb757ea>\u001b[0m in \u001b[0;36mbusqueda_aleatoria\u001b[1;34m()\u001b[0m\n\u001b[0;32m      7\u001b[0m     \u001b[0mprint\u001b[0m\u001b[1;33m(\u001b[0m\u001b[0msol_inicial\u001b[0m\u001b[1;33m)\u001b[0m\u001b[1;33m\u001b[0m\u001b[1;33m\u001b[0m\u001b[0m\n\u001b[0;32m      8\u001b[0m     \u001b[1;31m# Pedimos por teclado el número de intentos\u001b[0m\u001b[1;33m\u001b[0m\u001b[1;33m\u001b[0m\u001b[1;33m\u001b[0m\u001b[0m\n\u001b[1;32m----> 9\u001b[1;33m     \u001b[0mx\u001b[0m \u001b[1;33m=\u001b[0m \u001b[0mint\u001b[0m\u001b[1;33m(\u001b[0m\u001b[0minput\u001b[0m\u001b[1;33m(\u001b[0m\u001b[1;34m\"Introduce el número de iteraciones: \"\u001b[0m\u001b[1;33m)\u001b[0m\u001b[1;33m)\u001b[0m\u001b[1;33m\u001b[0m\u001b[1;33m\u001b[0m\u001b[0m\n\u001b[0m\u001b[0;32m     10\u001b[0m     \u001b[0moptimo_mejor\u001b[0m \u001b[1;33m=\u001b[0m \u001b[0mfuncion_f\u001b[0m\u001b[1;33m(\u001b[0m\u001b[0msol_mejor\u001b[0m\u001b[1;33m)\u001b[0m\u001b[1;33m\u001b[0m\u001b[1;33m\u001b[0m\u001b[0m\n\u001b[0;32m     11\u001b[0m \u001b[1;33m\u001b[0m\u001b[0m\n",
      "\u001b[1;31mValueError\u001b[0m: invalid literal for int() with base 10: ''"
     ]
    }
   ],
   "source": [
    "busqueda_aleatoria()"
   ]
  },
  {
   "cell_type": "code",
   "execution_count": null,
   "metadata": {},
   "outputs": [],
   "source": [
    "def busqueda_local():\n",
    "    \n",
    "    sol_inicial = generar_permutador()\n",
    "    sol_actual = sol_inicial\n",
    "    sol_mejor = sol_actual\n",
    "    vecino = []\n",
    "   \n",
    "    for i in range(len(sol_actual)):\n",
    "        for j in range(len(sol_actual)):\n",
    "            mov = sol_actual[:]\n",
    "            # print(mov)\n",
    "            # print(sol_actual)           \n",
    "            aux = mov[i]\n",
    "            mov[i] = mov[j]\n",
    "            mov[j] = mov[i]\n",
    "            mov[j] = aux\n",
    "            vecino.append(mov)\n",
    "    return vecino\n",
    "    \n",
    "    "
   ]
  },
  {
   "cell_type": "code",
   "execution_count": null,
   "metadata": {},
   "outputs": [
    {
     "data": {
      "text/plain": [
       "[[2, 0, 1],\n",
       " [0, 2, 1],\n",
       " [1, 0, 2],\n",
       " [0, 2, 1],\n",
       " [2, 0, 1],\n",
       " [2, 1, 0],\n",
       " [1, 0, 2],\n",
       " [2, 1, 0],\n",
       " [2, 0, 1]]"
      ]
     },
     "execution_count": 12,
     "metadata": {},
     "output_type": "execute_result"
    }
   ],
   "source": [
    "busqueda_local()"
   ]
  },
  {
   "cell_type": "code",
   "execution_count": null,
   "metadata": {},
   "outputs": [],
   "source": [
    "def combinaciones(lst : list):\n",
    "    retorno = []\n",
    "\n",
    "    if len(lst) > 2:\n",
    "        for i in lst:\n",
    "            aux = list(lst)\n",
    "            aux.remove(i)\n",
    "            for j in combinaciones(aux):\n",
    "                retorno.append([i] + j)\n",
    "    if len(lst) == 2:\n",
    "        return [lst, [lst[1], lst[0]]]\n",
    "    if len(lst) == 1:\n",
    "        return lst\n",
    "    \n",
    "    return retorno"
   ]
  },
  {
   "cell_type": "code",
   "execution_count": null,
   "metadata": {},
   "outputs": [
    {
     "data": {
      "text/plain": [
       "[1, 2, 3]"
      ]
     },
     "execution_count": 14,
     "metadata": {},
     "output_type": "execute_result"
    }
   ],
   "source": []
  }
 ],
 "metadata": {
  "interpreter": {
   "hash": "45beaf1bbaf1f4539db6cc65708e9bc09be995c5454858dbd2322c7e6d854a88"
  },
  "kernelspec": {
   "display_name": "Python 3.8.8 64-bit ('base': conda)",
   "name": "python3"
  },
  "language_info": {
   "codemirror_mode": {
    "name": "ipython",
    "version": 3
   },
   "file_extension": ".py",
   "mimetype": "text/x-python",
   "name": "python",
   "nbconvert_exporter": "python",
   "pygments_lexer": "ipython3",
   "version": "3.8.8"
  }
 },
 "nbformat": 4,
 "nbformat_minor": 4
}
