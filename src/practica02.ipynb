{
 "cells": [
  {
   "cell_type": "markdown",
   "metadata": {},
   "source": [
    "# Flow Shop Permutacional"
   ]
  },
  {
   "cell_type": "raw",
   "metadata": {},
   "source": [
    "Autores:\n",
    "    - Pablo Simón Saiz\n",
    "    - Alex Tomé Aguiar\n",
    "\n",
    "tkinter"
   ]
  },
  {
   "cell_type": "code",
   "execution_count": 1,
   "metadata": {},
   "outputs": [],
   "source": [
    "from utils import get_fichero, read_file, generar_permutador, funcion_f, tiempo_final_f\n",
    "from searchs import local_search, rand_search, recocido_simulado\n",
    "import pandas as pd\n",
    "from genetico import genetic\n",
    "import numpy as np"
   ]
  },
  {
   "cell_type": "code",
   "execution_count": 2,
   "metadata": {},
   "outputs": [],
   "source": [
    "# ESTATICOS\n",
    "NFILE = 5 # poner a None para pedir por teclado"
   ]
  },
  {
   "cell_type": "markdown",
   "metadata": {},
   "source": [
    "# Introducción de fichero"
   ]
  },
  {
   "cell_type": "code",
   "execution_count": 3,
   "metadata": {},
   "outputs": [
    {
     "name": "stdout",
     "output_type": "stream",
     "text": [
      "Data\\Doc3.txt\n"
     ]
    }
   ],
   "source": [
    "file = get_fichero(NFILE)\n",
    "print(file)"
   ]
  },
  {
   "cell_type": "markdown",
   "metadata": {},
   "source": [
    "# Lectura de fichero"
   ]
  },
  {
   "cell_type": "code",
   "execution_count": 4,
   "metadata": {},
   "outputs": [
    {
     "data": {
      "text/html": [
       "<div>\n",
       "<style scoped>\n",
       "    .dataframe tbody tr th:only-of-type {\n",
       "        vertical-align: middle;\n",
       "    }\n",
       "\n",
       "    .dataframe tbody tr th {\n",
       "        vertical-align: top;\n",
       "    }\n",
       "\n",
       "    .dataframe thead th {\n",
       "        text-align: right;\n",
       "    }\n",
       "</style>\n",
       "<table border=\"1\" class=\"dataframe\">\n",
       "  <thead>\n",
       "    <tr style=\"text-align: right;\">\n",
       "      <th></th>\n",
       "      <th>0</th>\n",
       "      <th>1</th>\n",
       "      <th>2</th>\n",
       "      <th>3</th>\n",
       "      <th>4</th>\n",
       "    </tr>\n",
       "  </thead>\n",
       "  <tbody>\n",
       "    <tr>\n",
       "      <th>0</th>\n",
       "      <td>456</td>\n",
       "      <td>537</td>\n",
       "      <td>123</td>\n",
       "      <td>214</td>\n",
       "      <td>234</td>\n",
       "    </tr>\n",
       "    <tr>\n",
       "      <th>1</th>\n",
       "      <td>789</td>\n",
       "      <td>854</td>\n",
       "      <td>225</td>\n",
       "      <td>528</td>\n",
       "      <td>123</td>\n",
       "    </tr>\n",
       "    <tr>\n",
       "      <th>2</th>\n",
       "      <td>876</td>\n",
       "      <td>632</td>\n",
       "      <td>588</td>\n",
       "      <td>896</td>\n",
       "      <td>456</td>\n",
       "    </tr>\n",
       "    <tr>\n",
       "      <th>3</th>\n",
       "      <td>543</td>\n",
       "      <td>145</td>\n",
       "      <td>669</td>\n",
       "      <td>325</td>\n",
       "      <td>789</td>\n",
       "    </tr>\n",
       "    <tr>\n",
       "      <th>4</th>\n",
       "      <td>210</td>\n",
       "      <td>785</td>\n",
       "      <td>966</td>\n",
       "      <td>147</td>\n",
       "      <td>876</td>\n",
       "    </tr>\n",
       "    <tr>\n",
       "      <th>5</th>\n",
       "      <td>123</td>\n",
       "      <td>214</td>\n",
       "      <td>332</td>\n",
       "      <td>856</td>\n",
       "      <td>543</td>\n",
       "    </tr>\n",
       "    <tr>\n",
       "      <th>6</th>\n",
       "      <td>456</td>\n",
       "      <td>752</td>\n",
       "      <td>144</td>\n",
       "      <td>321</td>\n",
       "      <td>210</td>\n",
       "    </tr>\n",
       "    <tr>\n",
       "      <th>7</th>\n",
       "      <td>789</td>\n",
       "      <td>143</td>\n",
       "      <td>755</td>\n",
       "      <td>427</td>\n",
       "      <td>123</td>\n",
       "    </tr>\n",
       "    <tr>\n",
       "      <th>8</th>\n",
       "      <td>876</td>\n",
       "      <td>698</td>\n",
       "      <td>322</td>\n",
       "      <td>546</td>\n",
       "      <td>456</td>\n",
       "    </tr>\n",
       "    <tr>\n",
       "      <th>9</th>\n",
       "      <td>543</td>\n",
       "      <td>532</td>\n",
       "      <td>100</td>\n",
       "      <td>321</td>\n",
       "      <td>789</td>\n",
       "    </tr>\n",
       "    <tr>\n",
       "      <th>10</th>\n",
       "      <td>210</td>\n",
       "      <td>145</td>\n",
       "      <td>114</td>\n",
       "      <td>401</td>\n",
       "      <td>876</td>\n",
       "    </tr>\n",
       "    <tr>\n",
       "      <th>11</th>\n",
       "      <td>124</td>\n",
       "      <td>247</td>\n",
       "      <td>753</td>\n",
       "      <td>214</td>\n",
       "      <td>543</td>\n",
       "    </tr>\n",
       "  </tbody>\n",
       "</table>\n",
       "</div>"
      ],
      "text/plain": [
       "      0    1    2    3    4\n",
       "0   456  537  123  214  234\n",
       "1   789  854  225  528  123\n",
       "2   876  632  588  896  456\n",
       "3   543  145  669  325  789\n",
       "4   210  785  966  147  876\n",
       "5   123  214  332  856  543\n",
       "6   456  752  144  321  210\n",
       "7   789  143  755  427  123\n",
       "8   876  698  322  546  456\n",
       "9   543  532  100  321  789\n",
       "10  210  145  114  401  876\n",
       "11  124  247  753  214  543"
      ]
     },
     "metadata": {},
     "output_type": "display_data"
    }
   ],
   "source": [
    "d = read_file(file)\n",
    "display(pd.DataFrame(d))"
   ]
  },
  {
   "cell_type": "markdown",
   "metadata": {},
   "source": [
    "# Generación del Permutador"
   ]
  },
  {
   "cell_type": "code",
   "execution_count": 5,
   "metadata": {},
   "outputs": [
    {
     "name": "stdout",
     "output_type": "stream",
     "text": [
      "[8, 10, 9, 6, 4, 7, 0, 5, 1, 11, 2, 3]\n"
     ]
    }
   ],
   "source": [
    "v = generar_permutador(d)\n",
    "print(v)"
   ]
  },
  {
   "cell_type": "markdown",
   "metadata": {},
   "source": [
    "# Funcion F"
   ]
  },
  {
   "cell_type": "code",
   "execution_count": 6,
   "metadata": {},
   "outputs": [
    {
     "data": {
      "text/html": [
       "<div>\n",
       "<style scoped>\n",
       "    .dataframe tbody tr th:only-of-type {\n",
       "        vertical-align: middle;\n",
       "    }\n",
       "\n",
       "    .dataframe tbody tr th {\n",
       "        vertical-align: top;\n",
       "    }\n",
       "\n",
       "    .dataframe thead th {\n",
       "        text-align: right;\n",
       "    }\n",
       "</style>\n",
       "<table border=\"1\" class=\"dataframe\">\n",
       "  <thead>\n",
       "    <tr style=\"text-align: right;\">\n",
       "      <th></th>\n",
       "      <th>0</th>\n",
       "      <th>1</th>\n",
       "      <th>2</th>\n",
       "      <th>3</th>\n",
       "      <th>4</th>\n",
       "    </tr>\n",
       "  </thead>\n",
       "  <tbody>\n",
       "    <tr>\n",
       "      <th>0</th>\n",
       "      <td>3540</td>\n",
       "      <td>4468</td>\n",
       "      <td>5632</td>\n",
       "      <td>6150</td>\n",
       "      <td>6384</td>\n",
       "    </tr>\n",
       "    <tr>\n",
       "      <th>1</th>\n",
       "      <td>4452</td>\n",
       "      <td>5536</td>\n",
       "      <td>6189</td>\n",
       "      <td>7534</td>\n",
       "      <td>7672</td>\n",
       "    </tr>\n",
       "    <tr>\n",
       "      <th>2</th>\n",
       "      <td>5452</td>\n",
       "      <td>6415</td>\n",
       "      <td>7530</td>\n",
       "      <td>8644</td>\n",
       "      <td>9100</td>\n",
       "    </tr>\n",
       "    <tr>\n",
       "      <th>3</th>\n",
       "      <td>5995</td>\n",
       "      <td>6560</td>\n",
       "      <td>8199</td>\n",
       "      <td>8969</td>\n",
       "      <td>9889</td>\n",
       "    </tr>\n",
       "    <tr>\n",
       "      <th>4</th>\n",
       "      <td>2295</td>\n",
       "      <td>3788</td>\n",
       "      <td>4754</td>\n",
       "      <td>4901</td>\n",
       "      <td>5777</td>\n",
       "    </tr>\n",
       "    <tr>\n",
       "      <th>5</th>\n",
       "      <td>3663</td>\n",
       "      <td>4682</td>\n",
       "      <td>5964</td>\n",
       "      <td>7006</td>\n",
       "      <td>7549</td>\n",
       "    </tr>\n",
       "    <tr>\n",
       "      <th>6</th>\n",
       "      <td>2085</td>\n",
       "      <td>3003</td>\n",
       "      <td>3147</td>\n",
       "      <td>3485</td>\n",
       "      <td>4773</td>\n",
       "    </tr>\n",
       "    <tr>\n",
       "      <th>7</th>\n",
       "      <td>3084</td>\n",
       "      <td>3931</td>\n",
       "      <td>5509</td>\n",
       "      <td>5936</td>\n",
       "      <td>6059</td>\n",
       "    </tr>\n",
       "    <tr>\n",
       "      <th>8</th>\n",
       "      <td>876</td>\n",
       "      <td>1574</td>\n",
       "      <td>1896</td>\n",
       "      <td>2442</td>\n",
       "      <td>2898</td>\n",
       "    </tr>\n",
       "    <tr>\n",
       "      <th>9</th>\n",
       "      <td>1629</td>\n",
       "      <td>2251</td>\n",
       "      <td>2351</td>\n",
       "      <td>3164</td>\n",
       "      <td>4563</td>\n",
       "    </tr>\n",
       "    <tr>\n",
       "      <th>10</th>\n",
       "      <td>1086</td>\n",
       "      <td>1719</td>\n",
       "      <td>2010</td>\n",
       "      <td>2843</td>\n",
       "      <td>3774</td>\n",
       "    </tr>\n",
       "    <tr>\n",
       "      <th>11</th>\n",
       "      <td>4576</td>\n",
       "      <td>5783</td>\n",
       "      <td>6942</td>\n",
       "      <td>7748</td>\n",
       "      <td>8291</td>\n",
       "    </tr>\n",
       "  </tbody>\n",
       "</table>\n",
       "</div>"
      ],
      "text/plain": [
       "       0     1     2     3     4\n",
       "0   3540  4468  5632  6150  6384\n",
       "1   4452  5536  6189  7534  7672\n",
       "2   5452  6415  7530  8644  9100\n",
       "3   5995  6560  8199  8969  9889\n",
       "4   2295  3788  4754  4901  5777\n",
       "5   3663  4682  5964  7006  7549\n",
       "6   2085  3003  3147  3485  4773\n",
       "7   3084  3931  5509  5936  6059\n",
       "8    876  1574  1896  2442  2898\n",
       "9   1629  2251  2351  3164  4563\n",
       "10  1086  1719  2010  2843  3774\n",
       "11  4576  5783  6942  7748  8291"
      ]
     },
     "metadata": {},
     "output_type": "display_data"
    }
   ],
   "source": [
    "f = funcion_f(v, d)\n",
    "display(pd.DataFrame(f))"
   ]
  },
  {
   "cell_type": "markdown",
   "metadata": {},
   "source": [
    "# Busquedas\n",
    "## Búsqueda Aleatoria"
   ]
  },
  {
   "cell_type": "code",
   "execution_count": 7,
   "metadata": {},
   "outputs": [
    {
     "name": "stdout",
     "output_type": "stream",
     "text": [
      "Permutador: [5, 3, 4, 10, 6, 1, 11, 9, 2, 8, 0, 7]\n",
      "Puntuación: 7666\n"
     ]
    },
    {
     "data": {
      "image/png": "[encoded data removed]",
      "text/plain": [
       "<Figure size 432x288 with 1 Axes>"
      ]
     },
     "metadata": {
      "needs_background": "light"
     },
     "output_type": "display_data"
    }
   ],
   "source": [
    "rs = rand_search(d, 8000)\n",
    "rs_score = tiempo_final_f(funcion_f(rs, d))\n",
    "\n",
    "print(f\"Permutador: {rs}\")\n",
    "print(f\"Puntuación: {rs_score}\")"
   ]
  },
  {
   "cell_type": "markdown",
   "metadata": {},
   "source": [
    "## Búsqueda Local\n",
    "### Primero el mejor"
   ]
  },
  {
   "cell_type": "code",
   "execution_count": 8,
   "metadata": {},
   "outputs": [
    {
     "name": "stdout",
     "output_type": "stream",
     "text": [
      "Permutador: [5, 4, 9, 10, 2, 1, 6, 3, 0, 11, 8, 7]\n",
      "Puntuación: 7710\n"
     ]
    },
    {
     "data": {
      "image/png": "[encoded data removed]",
      "text/plain": [
       "<Figure size 432x288 with 1 Axes>"
      ]
     },
     "metadata": {
      "needs_background": "light"
     },
     "output_type": "display_data"
    }
   ],
   "source": [
    "ls1 = local_search(d, True)\n",
    "ls1_score = tiempo_final_f(funcion_f(ls1, d))\n",
    "\n",
    "print(f\"Permutador: {ls1}\")\n",
    "print(f\"Puntuación: {ls1_score}\")"
   ]
  },
  {
   "cell_type": "markdown",
   "metadata": {},
   "source": [
    "## El mejor"
   ]
  },
  {
   "cell_type": "code",
   "execution_count": 9,
   "metadata": {},
   "outputs": [
    {
     "name": "stdout",
     "output_type": "stream",
     "text": [
      "Permutador: [10, 11, 5, 0, 9, 4, 2, 6, 3, 1, 8, 7]\n",
      "Puntuación: 7666\n"
     ]
    },
    {
     "data": {
      "image/png": "[encoded data removed]",
      "text/plain": [
       "<Figure size 432x288 with 1 Axes>"
      ]
     },
     "metadata": {
      "needs_background": "light"
     },
     "output_type": "display_data"
    }
   ],
   "source": [
    "ls2 = local_search(d, False)\n",
    "ls2_score = tiempo_final_f(funcion_f(rs, d))\n",
    "\n",
    "print(f\"Permutador: {ls2}\")\n",
    "print(f\"Puntuación: {ls2_score}\")"
   ]
  },
  {
   "cell_type": "markdown",
   "metadata": {},
   "source": [
    "# Recodido"
   ]
  },
  {
   "cell_type": "code",
   "execution_count": 10,
   "metadata": {},
   "outputs": [
    {
     "name": "stdout",
     "output_type": "stream",
     "text": [
      "Permutador: [10, 5, 4, 9, 2, 8, 11, 1, 3, 6, 7, 0]\n",
      "Puntuación: 7312\n"
     ]
    },
    {
     "data": {
      "image/png": "[encoded data removed]",
      "text/plain": [
       "<Figure size 432x288 with 1 Axes>"
      ]
     },
     "metadata": {
      "needs_background": "light"
     },
     "output_type": "display_data"
    }
   ],
   "source": [
    "rec = recocido_simulado(d, 100)\n",
    "rec_score = tiempo_final_f(funcion_f(rec, d))\n",
    "\n",
    "print(f\"Permutador: {rec}\")\n",
    "print(f\"Puntuación: {rec_score}\")"
   ]
  },
  {
   "cell_type": "markdown",
   "metadata": {},
   "source": [
    "## Genético"
   ]
  },
  {
   "cell_type": "code",
   "execution_count": 11,
   "metadata": {},
   "outputs": [
    {
     "name": "stdout",
     "output_type": "stream",
     "text": [
      "Permutador: [10, 11, 10, 5, 11, 5, 0, 0, 0, 7, 6, 7]\n",
      "Puntuación: 5952\n"
     ]
    },
    {
     "data": {
      "image/png": "[encoded data removed]",
      "text/plain": [
       "<Figure size 432x288 with 1 Axes>"
      ]
     },
     "metadata": {
      "needs_background": "light"
     },
     "output_type": "display_data"
    }
   ],
   "source": [
    "NIND = 100 # Número de individuos por población\n",
    "NGEN = 100 # Número de generaciones por individuo\n",
    "MUPB = 0.3 # Probabilidad de mutación\n",
    "CXPB = 0.7 # Probabilidad de cruce\n",
    "\n",
    "gen = genetic(d, NIND=NIND, NGEN=NGEN, MUPB=MUPB, CXPB=CXPB, plot = True)\n",
    "gen_score = tiempo_final_f(funcion_f(gen, d))\n",
    "\n",
    "print(f\"Permutador: {gen}\")\n",
    "print(f\"Puntuación: {gen_score}\")"
   ]
  }
 ],
 "metadata": {
  "interpreter": {
   "hash": "45beaf1bbaf1f4539db6cc65708e9bc09be995c5454858dbd2322c7e6d854a88"
  },
  "kernelspec": {
   "display_name": "Python 3.8.8 64-bit ('base': conda)",
   "name": "python3"
  },
  "language_info": {
   "codemirror_mode": {
    "name": "ipython",
    "version": 3
   },
   "file_extension": ".py",
   "mimetype": "text/x-python",
   "name": "python",
   "nbconvert_exporter": "python",
   "pygments_lexer": "ipython3",
   "version": "3.8.5"
  }
 },
 "nbformat": 4,
 "nbformat_minor": 4
}
