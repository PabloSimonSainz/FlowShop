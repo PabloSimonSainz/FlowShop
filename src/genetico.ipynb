{
 "cells": [
  {
   "cell_type": "code",
   "execution_count": 7,
   "metadata": {},
   "outputs": [],
   "source": [
    "from utils import get_fichero, read_file, generar_permutador, funcion_f, tiempo_final_f\n",
    "import seleccion\n",
    "import random\n",
    "import cruces"
   ]
  },
  {
   "cell_type": "code",
   "execution_count": 8,
   "metadata": {},
   "outputs": [],
   "source": [
    "NIND = 1000\n",
    "NGEN = 1000\n",
    "NFILE = 1\n",
    "MUPB = 0.2\n",
    "CXPB = 0.8\n",
    "\n",
    "file = get_fichero(NFILE)\n",
    "d = read_file(file)"
   ]
  },
  {
   "cell_type": "code",
   "execution_count": 9,
   "metadata": {},
   "outputs": [
    {
     "name": "stdout",
     "output_type": "stream",
     "text": [
      "[[0, 1, 2, 3, 4], [3, 0, 4, 2, 1], [3, 0, 4, 2, 1], [3, 4, 0, 1, 2], [4, 2, 0, 3, 1], [3, 2, 1, 4, 0], [4, 2, 1, 3, 0], [4, 3, 0, 1, 2], [1, 0, 3, 4, 2], [2, 0, 4, 1, 3], [0, 1, 4, 2, 3], [3, 0, 4, 2, 1], [0, 4, 2, 1, 3], [2, 4, 3, 1, 0], [0, 1, 2, 3, 4], [2, 3, 1, 4, 0], [4, 0, 3, 1, 2], [1, 2, 0, 3, 4], [3, 0, 4, 1, 2], [0, 4, 3, 1, 2], [1, 4, 2, 0, 3], [3, 0, 4, 2, 1], [4, 1, 0, 2, 3], [0, 1, 3, 2, 4], [0, 3, 4, 2, 1], [0, 1, 4, 3, 2], [4, 1, 2, 3, 0], [2, 1, 4, 3, 0], [0, 4, 2, 3, 1], [4, 0, 1, 3, 2], [4, 1, 3, 2, 0], [4, 1, 3, 2, 0], [0, 2, 4, 3, 1], [4, 3, 0, 1, 2], [3, 1, 2, 0, 4], [1, 4, 2, 3, 0], [4, 2, 1, 3, 0], [3, 0, 1, 4, 2], [3, 4, 0, 1, 2], [4, 2, 3, 0, 1], [2, 1, 0, 4, 3], [2, 0, 4, 3, 1], [4, 1, 3, 0, 2], [4, 1, 0, 2, 3], [1, 2, 3, 0, 4], [0, 2, 1, 3, 4], [1, 3, 0, 2, 4], [4, 2, 1, 0, 3], [1, 3, 0, 4, 2], [2, 4, 3, 0, 1], [1, 3, 2, 4, 0], [4, 3, 2, 1, 0], [2, 1, 3, 0, 4], [4, 1, 3, 0, 2], [0, 3, 2, 4, 1], [3, 1, 0, 4, 2], [3, 1, 4, 2, 0], [3, 0, 4, 2, 1], [3, 1, 0, 4, 2], [3, 4, 0, 1, 2], [2, 1, 3, 0, 4], [1, 3, 4, 2, 0], [3, 2, 1, 4, 0], [4, 2, 1, 0, 3], [3, 0, 1, 4, 2], [2, 3, 4, 1, 0], [3, 4, 2, 0, 1], [0, 1, 4, 2, 3], [4, 2, 1, 3, 0], [4, 2, 3, 1, 0], [1, 4, 2, 3, 0], [2, 0, 4, 1, 3], [0, 4, 1, 3, 2], [4, 3, 1, 2, 0], [3, 4, 0, 1, 2], [2, 1, 0, 4, 3], [4, 3, 2, 1, 0], [0, 3, 2, 1, 4], [2, 3, 1, 0, 4], [4, 1, 0, 2, 3], [0, 3, 2, 4, 1], [3, 1, 0, 4, 2], [3, 4, 2, 1, 0], [0, 3, 1, 2, 4], [0, 2, 3, 4, 1], [1, 2, 3, 0, 4], [1, 2, 3, 0, 4], [2, 0, 4, 1, 3], [4, 2, 0, 3, 1], [4, 3, 2, 0, 1], [4, 3, 1, 0, 2], [0, 3, 1, 4, 2], [0, 2, 3, 1, 4], [2, 1, 4, 0, 3], [0, 4, 2, 1, 3], [2, 1, 0, 4, 3], [2, 0, 4, 3, 1], [3, 1, 4, 2, 0], [4, 3, 2, 0, 1], [4, 1, 3, 0, 2]]\n"
     ]
    }
   ],
   "source": [
    "# INICIO\n",
    "individuos = []\n",
    "fitness = []\n",
    "\n",
    "for i in range(NIND):\n",
    "    permutador = generar_permutador(d)\n",
    "    individuos.append(permutador)\n",
    "    fitness.append(tiempo_final_f(funcion_f(permutador,d)))\n",
    "    \n",
    "print(individuos)"
   ]
  },
  {
   "cell_type": "code",
   "execution_count": 21,
   "metadata": {},
   "outputs": [
    {
     "data": {
      "text/plain": [
       "29"
      ]
     },
     "execution_count": 21,
     "metadata": {},
     "output_type": "execute_result"
    }
   ],
   "source": [
    "'''\n",
    "GENETICO\n",
    "'''\n",
    "\n",
    "def genetic(d=d, NIND=NIND, NGEN=NGEN, MUPB=MUPB, CXPB=CXPB):\n",
    "    individuos = []\n",
    "    retorno = []\n",
    "    bestfit = -1\n",
    "    \n",
    "    for i in range(NIND):\n",
    "        individuos.append(generar_permutador(d))\n",
    "    \n",
    "    for i in range(NGEN):\n",
    "        fitness = []\n",
    "        for i in individuos:\n",
    "            fitness.append(tiempo_final_f(funcion_f(i, d)))\n",
    "        \n",
    "        aux = max(fitness)\n",
    "        if bestfit > aux or bestfit == -1:\n",
    "            bestfit = aux\n",
    "            retorno = individuos[fitness.index(bestfit)]\n",
    "\n",
    "        individuos = seleccion.ranking(individuos, fitness, seleccionados=NIND)\n",
    "        individuos.extend(cruces.cruce(individuos = individuos, cruce = 1, CXPB=CXPB))\n",
    "        cruces.mutacion(individuos=individuos, MUPB=MUPB, times = 2)\n",
    "    \n",
    "    return retorno\n",
    "\n",
    "tiempo_final_f(funcion_f(genetic(), d))\n"
   ]
  }
 ],
 "metadata": {
  "interpreter": {
   "hash": "cf3cf339e959e9d2d50901116784d4fb6c43a8d5d7cad4ffa57b2d77874f95e0"
  },
  "kernelspec": {
   "display_name": "Python 3.8.5 64-bit ('base': conda)",
   "language": "python",
   "name": "python3"
  },
  "language_info": {
   "codemirror_mode": {
    "name": "ipython",
    "version": 3
   },
   "file_extension": ".py",
   "mimetype": "text/x-python",
   "name": "python",
   "nbconvert_exporter": "python",
   "pygments_lexer": "ipython3",
   "version": "3.8.5"
  },
  "orig_nbformat": 4
 },
 "nbformat": 4,
 "nbformat_minor": 2
}
