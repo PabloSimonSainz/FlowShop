{
 "cells": [
  {
   "cell_type": "markdown",
   "metadata": {},
   "source": [
    "# Flow Shop Permutacional"
   ]
  },
  {
   "cell_type": "raw",
   "metadata": {},
   "source": [
    "Autores:\n",
    "    - Pablo Simón Saiz\n",
    "    - Alex Tomé Aguiar"
   ]
  },
  {
   "cell_type": "code",
   "execution_count": 1,
   "metadata": {},
   "outputs": [],
   "source": [
    "import csv\n",
    "import random"
   ]
  },
  {
   "cell_type": "code",
   "execution_count": 2,
   "metadata": {},
   "outputs": [
    {
     "name": "stdout",
     "output_type": "stream",
     "text": [
      "Introduce el archivo .txt: Doc1.txt\n"
     ]
    }
   ],
   "source": [
    "def read_file(file = input(\"Introduce el archivo .txt: \")):\n",
    "    \"\"\"\n",
    "    Completar.\n",
    "    Función que lee un archivo y almacena en una variable el numero de maquinas\n",
    "    en otra las órdenes y en una matriz ambas dos.\n",
    "    \"\"\"\n",
    "    \"\"\"\n",
    "    archivo = 'Doc1.txt'\n",
    "    \n",
    "    f = open(archivo)\n",
    "    print(f.read())\n",
    "    f.close()\n",
    "    \"\"\"\n",
    "    \n",
    "    with open(file, newline = '') as f:\n",
    "        reader = csv.reader(f)\n",
    "        data = list(reader)\n",
    "\n",
    "    retorno = []\n",
    "    \n",
    "    for i in range(len(data)):\n",
    "        retorno.append(data[i][0].split())\n",
    "        \n",
    "        for j in range(len(retorno[i])):\n",
    "            retorno[i][j] = int(retorno[i][j])\n",
    "\n",
    "    return retorno\n",
    "\n",
    "\n",
    "\n",
    "    # La secuencia es el vector que ordena qué productos se hacen en qué orden,\n",
    "    # son los primeros números del archivo\n",
    "    # secuencia = \n",
    "    \n",
    "    # i: primera pos del vector\n",
    "    # j: suma de la anterior y la nueva\n",
    "    # matriz_ij"
   ]
  },
  {
   "cell_type": "code",
   "execution_count": 3,
   "metadata": {},
   "outputs": [
    {
     "data": {
      "text/plain": [
       "[[11, 5],\n",
       " [0, 375, 1, 12, 2, 142, 3, 245, 4, 412],\n",
       " [0, 632, 1, 452, 2, 758, 3, 278, 4, 398],\n",
       " [0, 12, 1, 876, 2, 124, 3, 534, 4, 765],\n",
       " [0, 460, 1, 542, 2, 523, 3, 120, 4, 499],\n",
       " [0, 528, 1, 101, 2, 789, 3, 124, 4, 999],\n",
       " [0, 796, 1, 245, 2, 632, 3, 375, 4, 123],\n",
       " [0, 532, 1, 230, 2, 543, 3, 896, 4, 452],\n",
       " [0, 14, 1, 124, 2, 214, 3, 543, 4, 785],\n",
       " [0, 257, 1, 527, 2, 753, 3, 210, 4, 463],\n",
       " [0, 896, 1, 896, 2, 214, 3, 258, 4, 259],\n",
       " [0, 532, 1, 302, 2, 501, 3, 765, 4, 988]]"
      ]
     },
     "execution_count": 3,
     "metadata": {},
     "output_type": "execute_result"
    }
   ],
   "source": [
    "read_file()"
   ]
  },
  {
   "cell_type": "code",
   "execution_count": 4,
   "metadata": {},
   "outputs": [],
   "source": [
    "def generar_permutador(matriz_datos = read_file()):\n",
    "    \n",
    "    ordenes = [i for i in range(matriz_datos[0][1])]\n",
    "    retorno = []\n",
    "    \n",
    "    while len(ordenes) != 0:\n",
    "        rand = random.randint(0, len(ordenes) - 1)\n",
    "        retorno.append(ordenes[rand])\n",
    "        ordenes.pop(rand)\n",
    "\n",
    "    return retorno"
   ]
  },
  {
   "cell_type": "code",
   "execution_count": 5,
   "metadata": {},
   "outputs": [
    {
     "data": {
      "text/plain": [
       "[1, 2, 4, 3, 0]"
      ]
     },
     "execution_count": 5,
     "metadata": {},
     "output_type": "execute_result"
    }
   ],
   "source": [
    "generar_permutador()"
   ]
  },
  {
   "cell_type": "code",
   "execution_count": 6,
   "metadata": {},
   "outputs": [],
   "source": [
    "def funcion_f(vector = generar_permutador(), matriz_datos = read_file()):\n",
    "    \n",
    "    \"\"\"\n",
    "    Función F que calcula la matriz F con los tiempos de salida\n",
    "        num_ordenes: el número de órdenes\n",
    "        num_maq: el número de máquinas disponibles\n",
    "        matriz_datos: tiempos de procesado.\n",
    "    \"\"\"\n",
    "    \n",
    "    matriz = matriz_datos[1:]\n",
    "    num_ordenes = matriz_datos[0][0]\n",
    "    num_maq = matriz_datos[0][1]\n",
    "    \n",
    "    # Instanciamos la matriz final\n",
    "    matriz_final = [[] for i in range(num_maq)]\n",
    "            \n",
    "    for i in matriz:\n",
    "        cont = 0\n",
    "        for j in range(int(len(i)/2)):\n",
    "            matriz_final[int(cont/2)].append(i[cont+1])\n",
    "            cont += 2\n",
    "            \n",
    "    return matriz_final"
   ]
  },
  {
   "cell_type": "code",
   "execution_count": 7,
   "metadata": {},
   "outputs": [
    {
     "data": {
      "text/plain": [
       "[[375, 632, 12, 460, 528, 796, 532, 14, 257, 896, 532],\n",
       " [12, 452, 876, 542, 101, 245, 230, 124, 527, 896, 302],\n",
       " [142, 758, 124, 523, 789, 632, 543, 214, 753, 214, 501],\n",
       " [245, 278, 534, 120, 124, 375, 896, 543, 210, 258, 765],\n",
       " [412, 398, 765, 499, 999, 123, 452, 785, 463, 259, 988]]"
      ]
     },
     "execution_count": 7,
     "metadata": {},
     "output_type": "execute_result"
    }
   ],
   "source": [
    "funcion_f()"
   ]
  },
  {
   "cell_type": "code",
   "execution_count": null,
   "metadata": {},
   "outputs": [],
   "source": []
  },
  {
   "cell_type": "code",
   "execution_count": null,
   "metadata": {},
   "outputs": [],
   "source": []
  },
  {
   "cell_type": "code",
   "execution_count": 8,
   "metadata": {},
   "outputs": [],
   "source": [
    "def busqueda_aleatoria():\n",
    "    \n",
    "    sol_inicial = generar_permutador()\n",
    "    sol_actual = sol_inicial\n",
    "    sol_mejor = sol_actual\n",
    "    print(\"Partimos de la siguiente solución: \")\n",
    "    print(sol_inicial)\n",
    "    # Pedimos por teclado el número de intentos\n",
    "    x = int(input(\"Introduce el número de iteraciones: \"))\n",
    "    optimo_mejor = funcion_f(sol_mejor)\n",
    "    \n",
    "    for i in range(x):\n",
    "        sol_actual = generar_permutador()\n",
    "        optimo = funcion_f(sol_actual)    \n",
    "        if(optimo > optimo_mejor):\n",
    "            sol_mejor = sol_actual\n",
    "            optimo_mejor = optimo\n",
    "        \n",
    "    print(\"La mejor solución es: \")\n",
    "    print(sol_mejor)\n",
    "    print(\"Con valor: \")\n",
    "    print(optimo_mejor)\n",
    "   \n",
    "    \n",
    "    "
   ]
  },
  {
   "cell_type": "code",
   "execution_count": 9,
   "metadata": {},
   "outputs": [
    {
     "name": "stdout",
     "output_type": "stream",
     "text": [
      "Partimos de la siguiente solución: \n",
      "[4, 2, 3, 0, 1]\n",
      "Introduce el número de iteraciones: 50\n",
      "La mejor solución es: \n",
      "[4, 2, 3, 0, 1]\n",
      "Con valor: \n",
      "[[375, 632, 12, 460, 528, 796, 532, 14, 257, 896, 532], [12, 452, 876, 542, 101, 245, 230, 124, 527, 896, 302], [142, 758, 124, 523, 789, 632, 543, 214, 753, 214, 501], [245, 278, 534, 120, 124, 375, 896, 543, 210, 258, 765], [412, 398, 765, 499, 999, 123, 452, 785, 463, 259, 988]]\n"
     ]
    }
   ],
   "source": [
    "busqueda_aleatoria()"
   ]
  },
  {
   "cell_type": "code",
   "execution_count": 10,
   "metadata": {},
   "outputs": [],
   "source": [
    "def busqueda_local():\n",
    "    \n",
    "    sol_inicial = generar_permutador()\n",
    "    sol_actual = sol_inicial\n",
    "    sol_mejor = sol_actual\n",
    "    vecino = []\n",
    "   \n",
    "    for i in range(len(sol_actual)):\n",
    "        for j in range(len(sol_actual)):\n",
    "            mov = sol_actual[:]\n",
    "            # print(mov)\n",
    "            # print(sol_actual)           \n",
    "            aux = mov[i]\n",
    "            mov[i] = mov[j]\n",
    "            mov[j] = mov[i]\n",
    "            mov[j] = aux\n",
    "            vecino.append(mov)\n",
    "    return vecino\n",
    "    \n",
    "    "
   ]
  },
  {
   "cell_type": "code",
   "execution_count": 11,
   "metadata": {},
   "outputs": [
    {
     "data": {
      "text/plain": [
       "[[1, 3, 0, 4, 2],\n",
       " [3, 1, 0, 4, 2],\n",
       " [0, 3, 1, 4, 2],\n",
       " [4, 3, 0, 1, 2],\n",
       " [2, 3, 0, 4, 1],\n",
       " [3, 1, 0, 4, 2],\n",
       " [1, 3, 0, 4, 2],\n",
       " [1, 0, 3, 4, 2],\n",
       " [1, 4, 0, 3, 2],\n",
       " [1, 2, 0, 4, 3],\n",
       " [0, 3, 1, 4, 2],\n",
       " [1, 0, 3, 4, 2],\n",
       " [1, 3, 0, 4, 2],\n",
       " [1, 3, 4, 0, 2],\n",
       " [1, 3, 2, 4, 0],\n",
       " [4, 3, 0, 1, 2],\n",
       " [1, 4, 0, 3, 2],\n",
       " [1, 3, 4, 0, 2],\n",
       " [1, 3, 0, 4, 2],\n",
       " [1, 3, 0, 2, 4],\n",
       " [2, 3, 0, 4, 1],\n",
       " [1, 2, 0, 4, 3],\n",
       " [1, 3, 2, 4, 0],\n",
       " [1, 3, 0, 2, 4],\n",
       " [1, 3, 0, 4, 2]]"
      ]
     },
     "execution_count": 11,
     "metadata": {},
     "output_type": "execute_result"
    }
   ],
   "source": [
    "busqueda_local()"
   ]
  },
  {
   "cell_type": "code",
   "execution_count": null,
   "metadata": {},
   "outputs": [],
   "source": []
  }
 ],
 "metadata": {
  "kernelspec": {
   "display_name": "Python 3",
   "language": "python",
   "name": "python3"
  },
  "language_info": {
   "codemirror_mode": {
    "name": "ipython",
    "version": 3
   },
   "file_extension": ".py",
   "mimetype": "text/x-python",
   "name": "python",
   "nbconvert_exporter": "python",
   "pygments_lexer": "ipython3",
   "version": "3.8.3"
  }
 },
 "nbformat": 4,
 "nbformat_minor": 4
}
