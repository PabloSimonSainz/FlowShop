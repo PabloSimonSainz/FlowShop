{
 "cells": [
  {
   "cell_type": "markdown",
   "metadata": {},
   "source": [
    "# Flow Shop Permutacional"
   ]
  },
  {
   "cell_type": "raw",
   "metadata": {},
   "source": [
    "Autores:\n",
    "    - Pablo Simón Saiz\n",
    "    - Alex Tomé Aguiar"
   ]
  },
  {
   "cell_type": "code",
   "execution_count": 20,
   "metadata": {},
   "outputs": [],
   "source": [
    "import csv\n",
    "import random"
   ]
  },
  {
   "cell_type": "code",
   "execution_count": 21,
   "metadata": {},
   "outputs": [],
   "source": [
    "documentos = [\"ejem_clase2.txt\",\"ejem_clase2.txt\"]\n",
    "documentos += [\"Doc\" + str(i+1) + \".txt\" for i in range(11)]\n",
    "texto = \"Elija el problema a resolver: \\n\"\n",
    "aux = [\"\\t\" + str(i + 1) + \". \" + str(documentos[i]) + \"\\n\" for i in range(11)]\n",
    "\n",
    "for i in range(11):\n",
    "    texto += aux[i]\n",
    "\n",
    "def read_file(n = input(texto)):\n",
    "    \"\"\"\n",
    "    Completar.\n",
    "    Función que lee un archivo y almacena en una variable el numero de maquinas\n",
    "    en otra las órdenes y en una matriz ambas dos.\n",
    "    \"\"\"\n",
    "    \"\"\"\n",
    "    archivo = 'Doc1.txt'\n",
    "    \n",
    "    f = open(archivo)\n",
    "    print(f.read())\n",
    "    f.close()\n",
    "    \"\"\"\n",
    "    file = \"Problemas\\\\\" + documentos[int(n)-1]\n",
    "    with open(file, newline = '') as f:\n",
    "        reader = csv.reader(f)\n",
    "        data = list(reader)\n",
    "\n",
    "    retorno = []\n",
    "    \n",
    "    for i in range(len(data)):\n",
    "        retorno.append(data[i][0].split())\n",
    "        \n",
    "        for j in range(len(retorno[i])):\n",
    "            retorno[i][j] = int(retorno[i][j])\n",
    "\n",
    "    return retorno\n",
    "\n",
    "\n",
    "\n",
    "    # La secuencia es el vector que ordena qué productos se hacen en qué orden,\n",
    "    # son los primeros números del archivo\n",
    "    # secuencia = \n",
    "    \n",
    "    # i: primera pos del vector\n",
    "    # j: suma de la anterior y la nueva\n",
    "    # matriz_ij"
   ]
  },
  {
   "cell_type": "code",
   "execution_count": 22,
   "metadata": {},
   "outputs": [
    {
     "data": {
      "text/plain": [
       "[[5, 3],\n",
       " [0, 5, 1, 3, 2, 8],\n",
       " [0, 7, 1, 4, 2, 3],\n",
       " [0, 6, 1, 5, 2, 4],\n",
       " [0, 8, 1, 2, 2, 6],\n",
       " [0, 9, 1, 1, 2, 5]]"
      ]
     },
     "execution_count": 22,
     "metadata": {},
     "output_type": "execute_result"
    }
   ],
   "source": [
    "read_file()"
   ]
  },
  {
   "cell_type": "code",
   "execution_count": 23,
   "metadata": {},
   "outputs": [],
   "source": [
    "def generar_permutador(matriz_datos = read_file()):\n",
    "    \n",
    "    ordenes = [i for i in range(matriz_datos[0][1])]\n",
    "    retorno = []\n",
    "    \n",
    "    while len(ordenes) != 0:\n",
    "        rand = random.randint(0, len(ordenes) - 1)\n",
    "        retorno.append(ordenes[rand])\n",
    "        ordenes.pop(rand)\n",
    "\n",
    "    return retorno"
   ]
  },
  {
   "cell_type": "code",
   "execution_count": 24,
   "metadata": {},
   "outputs": [
    {
     "data": {
      "text/plain": [
       "[2, 0, 1]"
      ]
     },
     "execution_count": 24,
     "metadata": {},
     "output_type": "execute_result"
    }
   ],
   "source": [
    "generar_permutador()"
   ]
  },
  {
   "cell_type": "code",
   "execution_count": 25,
   "metadata": {},
   "outputs": [],
   "source": [
    "def funcion_f(vector = generar_permutador(), matriz_datos = read_file()):\n",
    "    \n",
    "    \"\"\"\n",
    "    Función F que calcula la matriz F con los tiempos de salida\n",
    "        num_ordenes: el número de órdenes\n",
    "        num_maq: el número de máquinas disponibles\n",
    "        matriz_datos: tiempos de procesado.\n",
    "    \"\"\"\n",
    "    \n",
    "    matriz = matriz_datos[1:]\n",
    "    num_ordenes = matriz_datos[0][0]\n",
    "    num_maq = matriz_datos[0][1]\n",
    "    \n",
    "    # Instanciamos la matriz final\n",
    "    matriz_final = [[] for i in range(num_maq)]\n",
    "            \n",
    "    for i in matriz:\n",
    "        cont = 0\n",
    "        for j in range(int(len(i)/2)):\n",
    "            matriz_final[int(cont/2)].append(i[cont+1])\n",
    "            cont += 2\n",
    "            \n",
    "    return matriz_final"
   ]
  },
  {
   "cell_type": "code",
   "execution_count": 26,
   "metadata": {},
   "outputs": [
    {
     "data": {
      "text/plain": [
       "[[5, 7, 6, 8, 9], [3, 4, 5, 2, 1], [8, 3, 4, 6, 5]]"
      ]
     },
     "execution_count": 26,
     "metadata": {},
     "output_type": "execute_result"
    }
   ],
   "source": [
    "funcion_f()"
   ]
  },
  {
   "cell_type": "code",
   "execution_count": 27,
   "metadata": {},
   "outputs": [],
   "source": [
    "def busqueda_aleatoria():\n",
    "    \n",
    "    sol_inicial = generar_permutador()\n",
    "    sol_actual = sol_inicial\n",
    "    sol_mejor = sol_actual\n",
    "    print(\"Partimos de la siguiente solución: \")\n",
    "    print(sol_inicial)\n",
    "    # Pedimos por teclado el número de intentos\n",
    "    x = int(input(\"Introduce el número de iteraciones: \"))\n",
    "    optimo_mejor = funcion_f(sol_mejor)\n",
    "    \n",
    "    for i in range(x):\n",
    "        sol_actual = generar_permutador()\n",
    "        optimo = funcion_f(sol_actual)    \n",
    "        if(optimo > optimo_mejor):\n",
    "            sol_mejor = sol_actual\n",
    "            optimo_mejor = optimo\n",
    "        \n",
    "    print(\"La mejor solución es: \")\n",
    "    print(sol_mejor)\n",
    "    print(\"Con valor: \")\n",
    "    print(optimo_mejor)\n",
    "   \n",
    "    \n",
    "    "
   ]
  },
  {
   "cell_type": "code",
   "execution_count": 28,
   "metadata": {},
   "outputs": [
    {
     "name": "stdout",
     "output_type": "stream",
     "text": [
      "Partimos de la siguiente solución: \n",
      "[0, 2, 1]\n",
      "La mejor solución es: \n",
      "[0, 2, 1]\n",
      "Con valor: \n",
      "[[5, 7, 6, 8, 9], [3, 4, 5, 2, 1], [8, 3, 4, 6, 5]]\n"
     ]
    }
   ],
   "source": [
    "busqueda_aleatoria()"
   ]
  },
  {
   "cell_type": "code",
   "execution_count": 29,
   "metadata": {},
   "outputs": [],
   "source": [
    "def busqueda_local():\n",
    "    \n",
    "    sol_inicial = generar_permutador()\n",
    "    sol_actual = sol_inicial\n",
    "    sol_mejor = sol_actual\n",
    "    vecino = []\n",
    "   \n",
    "    for i in range(len(sol_actual)):\n",
    "        for j in range(len(sol_actual)):\n",
    "            mov = sol_actual[:]\n",
    "            # print(mov)\n",
    "            # print(sol_actual)           \n",
    "            aux = mov[i]\n",
    "            mov[i] = mov[j]\n",
    "            mov[j] = mov[i]\n",
    "            mov[j] = aux\n",
    "            vecino.append(mov)\n",
    "    return vecino\n",
    "    \n",
    "    "
   ]
  },
  {
   "cell_type": "code",
   "execution_count": 30,
   "metadata": {},
   "outputs": [
    {
     "data": {
      "text/plain": [
       "[[0, 2, 1],\n",
       " [2, 0, 1],\n",
       " [1, 2, 0],\n",
       " [2, 0, 1],\n",
       " [0, 2, 1],\n",
       " [0, 1, 2],\n",
       " [1, 2, 0],\n",
       " [0, 1, 2],\n",
       " [0, 2, 1]]"
      ]
     },
     "execution_count": 30,
     "metadata": {},
     "output_type": "execute_result"
    }
   ],
   "source": [
    "busqueda_local()"
   ]
  },
  {
   "cell_type": "code",
   "execution_count": 65,
   "metadata": {},
   "outputs": [
    {
     "data": {
      "text/plain": [
       "[(1, 2), [2, 1]]"
      ]
     },
     "execution_count": 65,
     "metadata": {},
     "output_type": "execute_result"
    }
   ],
   "source": [
    "def combinaciones(lst : list):\n",
    "    retorno = []\n",
    "\n",
    "    if len(lst) > 2:\n",
    "        for i in lst:\n",
    "            aux = list(lst)\n",
    "            aux.remove(i)\n",
    "            for j in combinaciones(aux):\n",
    "                retorno.append([i] + j)\n",
    "    if len(lst) == 2:\n",
    "        return [lst, [lst[1], lst[0]]]\n",
    "    if len(lst) == 1:\n",
    "        return lst\n",
    "    \n",
    "    return retorno"
   ]
  },
  {
   "cell_type": "code",
   "execution_count": 54,
   "metadata": {},
   "outputs": [
    {
     "data": {
      "text/plain": [
       "[1, 2, 3]"
      ]
     },
     "execution_count": 54,
     "metadata": {},
     "output_type": "execute_result"
    }
   ],
   "source": [
    "array = [1,2,3]\n",
    "\n",
    "aux = list(array)\n",
    "\n",
    "aux.remove(2)\n",
    "\n",
    "array"
   ]
  }
 ],
 "metadata": {
  "interpreter": {
   "hash": "cf3cf339e959e9d2d50901116784d4fb6c43a8d5d7cad4ffa57b2d77874f95e0"
  },
  "kernelspec": {
   "display_name": "Python 3.8.5 64-bit ('base': conda)",
   "name": "python3"
  },
  "language_info": {
   "codemirror_mode": {
    "name": "ipython",
    "version": 3
   },
   "file_extension": ".py",
   "mimetype": "text/x-python",
   "name": "python",
   "nbconvert_exporter": "python",
   "pygments_lexer": "ipython3",
   "version": "3.8.5"
  }
 },
 "nbformat": 4,
 "nbformat_minor": 4
}
